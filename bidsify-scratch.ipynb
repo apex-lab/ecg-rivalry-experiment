{
 "cells": [
  {
   "cell_type": "code",
   "execution_count": 1,
   "id": "5c1ece6c",
   "metadata": {},
   "outputs": [],
   "source": [
    "from mne_bids import BIDSPath\n",
    "from os.path import join\n",
    "import numpy as np\n",
    "import pandas as pd\n",
    "import h5py\n",
    "import re"
   ]
  },
  {
   "cell_type": "code",
   "execution_count": 2,
   "id": "db29f242",
   "metadata": {},
   "outputs": [],
   "source": [
    "fname = 'ecg20230819-151345.h5' # this is just me pressing random buttons\n",
    "fpath = join('logs', fname)\n",
    "f = h5py.File(fpath, 'r')"
   ]
  },
  {
   "cell_type": "code",
   "execution_count": 3,
   "id": "4ce51d82",
   "metadata": {},
   "outputs": [
    {
     "data": {
      "text/html": [
       "<div>\n",
       "<style scoped>\n",
       "    .dataframe tbody tr th:only-of-type {\n",
       "        vertical-align: middle;\n",
       "    }\n",
       "\n",
       "    .dataframe tbody tr th {\n",
       "        vertical-align: top;\n",
       "    }\n",
       "\n",
       "    .dataframe thead th {\n",
       "        text-align: right;\n",
       "    }\n",
       "</style>\n",
       "<table border=\"1\" class=\"dataframe\">\n",
       "  <thead>\n",
       "    <tr style=\"text-align: right;\">\n",
       "      <th></th>\n",
       "      <th>time</th>\n",
       "      <th>ecg</th>\n",
       "      <th>syncronous</th>\n",
       "      <th>asyncronous</th>\n",
       "    </tr>\n",
       "  </thead>\n",
       "  <tbody>\n",
       "    <tr>\n",
       "      <th>0</th>\n",
       "      <td>1.071375e+07</td>\n",
       "      <td>0.837361</td>\n",
       "      <td>0.005976</td>\n",
       "      <td>0.005976</td>\n",
       "    </tr>\n",
       "    <tr>\n",
       "      <th>1</th>\n",
       "      <td>1.071375e+07</td>\n",
       "      <td>0.322055</td>\n",
       "      <td>0.009845</td>\n",
       "      <td>0.009845</td>\n",
       "    </tr>\n",
       "    <tr>\n",
       "      <th>2</th>\n",
       "      <td>1.071375e+07</td>\n",
       "      <td>-0.126459</td>\n",
       "      <td>0.015809</td>\n",
       "      <td>0.015809</td>\n",
       "    </tr>\n",
       "    <tr>\n",
       "      <th>3</th>\n",
       "      <td>1.071375e+07</td>\n",
       "      <td>-0.342333</td>\n",
       "      <td>0.024743</td>\n",
       "      <td>0.024743</td>\n",
       "    </tr>\n",
       "    <tr>\n",
       "      <th>4</th>\n",
       "      <td>1.071375e+07</td>\n",
       "      <td>-0.342870</td>\n",
       "      <td>0.037749</td>\n",
       "      <td>0.037749</td>\n",
       "    </tr>\n",
       "  </tbody>\n",
       "</table>\n",
       "</div>"
      ],
      "text/plain": [
       "           time       ecg  syncronous  asyncronous\n",
       "0  1.071375e+07  0.837361    0.005976     0.005976\n",
       "1  1.071375e+07  0.322055    0.009845     0.009845\n",
       "2  1.071375e+07 -0.126459    0.015809     0.015809\n",
       "3  1.071375e+07 -0.342333    0.024743     0.024743\n",
       "4  1.071375e+07 -0.342870    0.037749     0.037749"
      ]
     },
     "execution_count": 3,
     "metadata": {},
     "output_type": "execute_result"
    }
   ],
   "source": [
    "t_ecg = [sample[0] for sample in f['ecg_raw']]\n",
    "x = np.stack([sample[1] for sample in f['ecg_raw']])\n",
    "ecg = x[:, 0]\n",
    "ecg = pd.DataFrame({'time': t_ecg, 'ecg': ecg})\n",
    "\n",
    "t_stim = [sample[0] for sample in f['stim_size']]\n",
    "sync_stim = [sample[1] for sample in f['stim_size']]\n",
    "async_stim = [sample[2] for sample in f['stim_size']]\n",
    "stims = pd.DataFrame({\n",
    "    'time': t_stim, \n",
    "    'syncronous': sync_stim, \n",
    "    'asyncronous': async_stim\n",
    "})\n",
    "\n",
    "physio = pd.merge(ecg, stims, on = 'time')\n",
    "physio.head()"
   ]
  },
  {
   "cell_type": "code",
   "execution_count": 4,
   "id": "d555ddc3",
   "metadata": {},
   "outputs": [],
   "source": [
    "t_event = [sample[0] for sample in f['experiment_events']]\n",
    "events = [sample[1] for sample in f['experiment_events']]\n",
    "_stringify = lambda s: re.findall(\"'(\\w+)'\", str(s))[0] # rms weird encoding\n",
    "stringify = lambda s: s if isinstance(s, str) else _stringify(s)\n",
    "events = [stringify(ev) for ev in events]\n",
    "sync_color = stringify(f['experiment_events'][0][-1])\n",
    "async_color = 'blue' if sync_color == 'red' else 'red'\n",
    "events = pd.DataFrame({'onset': t_event, 'key': events})\n",
    "events['dominant_color'] = events.key.replace({\n",
    "    'left': 'red', 'right': 'blue', \n",
    "    'start': pd.NA, 'end': pd.NA\n",
    "})\n",
    "events['dominant'] = events.dominant_color.replace({\n",
    "    sync_color: 'syncronous', \n",
    "    async_color: 'asyncronous'\n",
    "})\n",
    "durations = events.onset.diff()\n",
    "durations.iloc[[1, -1]] = np.nan\n",
    "durations = durations.append(pd.Series([np.nan]))\n",
    "durations = durations.reset_index(drop = True)\n",
    "events.insert(1, 'duration', durations)\n",
    "event_types = events.key.replace({'left': 'keypress', 'right': 'keypress'})\n",
    "events.insert(0, 'trial', event_types)\n",
    "events.key = events.key.replace({'start': pd.NA, 'end': pd.NA})"
   ]
  },
  {
   "cell_type": "code",
   "execution_count": 5,
   "id": "cc2bc694",
   "metadata": {},
   "outputs": [
    {
     "name": "stdout",
     "output_type": "stream",
     "text": [
      "Physio starts at -1.00 seconds.\n"
     ]
    },
    {
     "data": {
      "text/html": [
       "<div>\n",
       "<style scoped>\n",
       "    .dataframe tbody tr th:only-of-type {\n",
       "        vertical-align: middle;\n",
       "    }\n",
       "\n",
       "    .dataframe tbody tr th {\n",
       "        vertical-align: top;\n",
       "    }\n",
       "\n",
       "    .dataframe thead th {\n",
       "        text-align: right;\n",
       "    }\n",
       "</style>\n",
       "<table border=\"1\" class=\"dataframe\">\n",
       "  <thead>\n",
       "    <tr style=\"text-align: right;\">\n",
       "      <th></th>\n",
       "      <th>trial</th>\n",
       "      <th>onset</th>\n",
       "      <th>duration</th>\n",
       "      <th>key</th>\n",
       "      <th>dominant_color</th>\n",
       "      <th>dominant</th>\n",
       "    </tr>\n",
       "  </thead>\n",
       "  <tbody>\n",
       "    <tr>\n",
       "      <th>0</th>\n",
       "      <td>start</td>\n",
       "      <td>0.000000</td>\n",
       "      <td>NaN</td>\n",
       "      <td>&lt;NA&gt;</td>\n",
       "      <td>&lt;NA&gt;</td>\n",
       "      <td>&lt;NA&gt;</td>\n",
       "    </tr>\n",
       "    <tr>\n",
       "      <th>1</th>\n",
       "      <td>keypress</td>\n",
       "      <td>1.130731</td>\n",
       "      <td>NaN</td>\n",
       "      <td>left</td>\n",
       "      <td>red</td>\n",
       "      <td>asyncronous</td>\n",
       "    </tr>\n",
       "    <tr>\n",
       "      <th>2</th>\n",
       "      <td>keypress</td>\n",
       "      <td>1.347095</td>\n",
       "      <td>0.216365</td>\n",
       "      <td>right</td>\n",
       "      <td>blue</td>\n",
       "      <td>syncronous</td>\n",
       "    </tr>\n",
       "    <tr>\n",
       "      <th>3</th>\n",
       "      <td>keypress</td>\n",
       "      <td>1.670523</td>\n",
       "      <td>0.323428</td>\n",
       "      <td>left</td>\n",
       "      <td>red</td>\n",
       "      <td>asyncronous</td>\n",
       "    </tr>\n",
       "    <tr>\n",
       "      <th>4</th>\n",
       "      <td>keypress</td>\n",
       "      <td>1.889564</td>\n",
       "      <td>0.219040</td>\n",
       "      <td>right</td>\n",
       "      <td>blue</td>\n",
       "      <td>syncronous</td>\n",
       "    </tr>\n",
       "  </tbody>\n",
       "</table>\n",
       "</div>"
      ],
      "text/plain": [
       "      trial     onset  duration    key dominant_color     dominant\n",
       "0     start  0.000000       NaN   <NA>           <NA>         <NA>\n",
       "1  keypress  1.130731       NaN   left            red  asyncronous\n",
       "2  keypress  1.347095  0.216365  right           blue   syncronous\n",
       "3  keypress  1.670523  0.323428   left            red  asyncronous\n",
       "4  keypress  1.889564  0.219040  right           blue   syncronous"
      ]
     },
     "execution_count": 5,
     "metadata": {},
     "output_type": "execute_result"
    }
   ],
   "source": [
    "# make timestamps relative to start of rivalry stimuli\n",
    "start_t = events[events.trial == 'start'].onset[0]\n",
    "events.onset -= start_t\n",
    "physio.time -= start_t\n",
    "# and get rid of surplus ECG data \n",
    "physio = physio[physio.time >= -1.]\n",
    "print('Physio starts at %.02f seconds.'%physio.time.min())\n",
    "events.head() # should be in format of a BIDS event file"
   ]
  },
  {
   "cell_type": "code",
   "execution_count": 6,
   "id": "dad511a7",
   "metadata": {},
   "outputs": [
    {
     "data": {
      "image/png": "[encoded data removed]",
      "text/plain": [
       "<Figure size 432x288 with 1 Axes>"
      ]
     },
     "metadata": {
      "needs_background": "light"
     },
     "output_type": "display_data"
    }
   ],
   "source": [
    "from matplotlib import pyplot as plt\n",
    "plt.plot(physio.time, physio.ecg, color = 'black', label = 'raw ECG')\n",
    "plt.plot(physio.time, physio['syncronous'], color = sync_color, label = 'sync')\n",
    "plt.plot(physio.time, physio['asyncronous'], color = async_color, label = 'async')\n",
    "plt.xlim(5, 10)\n",
    "plt.xlabel('seconds')\n",
    "plt.legend()\n",
    "plt.show()"
   ]
  },
  {
   "cell_type": "code",
   "execution_count": 7,
   "id": "e9954952",
   "metadata": {},
   "outputs": [
    {
     "data": {
      "image/png": "[encoded data removed]",
      "text/plain": [
       "<Figure size 432x288 with 1 Axes>"
      ]
     },
     "metadata": {
      "needs_background": "light"
     },
     "output_type": "display_data"
    }
   ],
   "source": [
    "import seaborn as sns\n",
    "sns.kdeplot(data = events, x = 'duration', hue = 'dominant')\n",
    "plt.show()"
   ]
  },
  {
   "cell_type": "code",
   "execution_count": 8,
   "id": "6626b967",
   "metadata": {},
   "outputs": [
    {
     "data": {
      "text/plain": [
       "MannwhitneyuResult(statistic=730.0, pvalue=0.7705691404891177)"
      ]
     },
     "execution_count": 8,
     "metadata": {},
     "output_type": "execute_result"
    }
   ],
   "source": [
    "from scipy.stats import mannwhitneyu\n",
    "sync_durations = events.duration[events.dominant == 'syncronous']\n",
    "async_durations = events.duration[events.dominant == 'asyncronous']\n",
    "mannwhitneyu(sync_durations, async_durations, nan_policy = 'omit')"
   ]
  },
  {
   "cell_type": "code",
   "execution_count": null,
   "id": "34a9c2d3",
   "metadata": {},
   "outputs": [],
   "source": []
  }
 ],
 "metadata": {
  "kernelspec": {
   "display_name": "Python 3 (ipykernel)",
   "language": "python",
   "name": "python3"
  },
  "language_info": {
   "codemirror_mode": {
    "name": "ipython",
    "version": 3
   },
   "file_extension": ".py",
   "mimetype": "text/x-python",
   "name": "python",
   "nbconvert_exporter": "python",
   "pygments_lexer": "ipython3",
   "version": "3.9.7"
  }
 },
 "nbformat": 4,
 "nbformat_minor": 5
}
